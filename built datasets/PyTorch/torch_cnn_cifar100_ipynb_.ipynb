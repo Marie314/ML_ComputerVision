{
  "nbformat": 4,
  "nbformat_minor": 0,
  "metadata": {
    "colab": {
      "provenance": []
    },
    "kernelspec": {
      "name": "python3",
      "display_name": "Python 3"
    },
    "language_info": {
      "name": "python"
    }
  },
  "cells": [
    {
      "cell_type": "code",
      "execution_count": null,
      "metadata": {
        "id": "1hIjKyL4BNRx"
      },
      "outputs": [],
      "source": [
        "import torch\n",
        "import torchvision.datasets as datasets\n",
        "import numpy as np\n",
        "import matplotlib.pyplot as plt\n",
        "\n",
        "\n",
        "import torch.nn as nn\n",
        "import torch.nn.functional as F\n",
        "from torchvision import transforms\n",
        "from torchvision.transforms import ToTensor"
      ]
    },
    {
      "cell_type": "code",
      "source": [
        "# загружаем датасет\n",
        "train_dataset = dataset = datasets.CIFAR100(root = \"./data\",\n",
        "\t\t\t\t\t\ttrain = True,\n",
        "\t\t\t\t\t\tdownload = True)"
      ],
      "metadata": {
        "colab": {
          "base_uri": "https://localhost:8080/"
        },
        "id": "yi8jI9n2DhOA",
        "outputId": "60b1ecaa-9457-4282-9f74-6656a8b1ed87"
      },
      "execution_count": null,
      "outputs": [
        {
          "output_type": "stream",
          "name": "stdout",
          "text": [
            "Downloading https://www.cs.toronto.edu/~kriz/cifar-100-python.tar.gz to ./data/cifar-100-python.tar.gz\n"
          ]
        },
        {
          "output_type": "stream",
          "name": "stderr",
          "text": [
            "100%|██████████| 169001437/169001437 [00:02<00:00, 79259909.31it/s]\n"
          ]
        },
        {
          "output_type": "stream",
          "name": "stdout",
          "text": [
            "Extracting ./data/cifar-100-python.tar.gz to ./data\n"
          ]
        }
      ]
    },
    {
      "cell_type": "code",
      "source": [
        "# функция для приобразования картинок в нужный формат\n",
        "def create_x(x):\n",
        "  x = np.reshape(x, (3, 32, 32))\n",
        "  x = np.array(x, dtype=np.float32)\n",
        "  x = x/255.0\n",
        "  # преобразование массива пикселей в торч(тип данных для работы с petorch)\n",
        "  x = torch.from_numpy(x)\n",
        "  return x"
      ],
      "metadata": {
        "id": "pSoyFtPoNAT_"
      },
      "execution_count": null,
      "outputs": []
    },
    {
      "cell_type": "code",
      "source": [
        "# функция для фильтрации. в датасете все классы имеют свои номера, и мы по номерам фильтруем\n",
        "def give_dy_classes(dataset):\n",
        "  data = []\n",
        "  label = []\n",
        "  ds = []\n",
        "  for x, y in dataset:\n",
        "    if y == 79 :         # класс пауков\n",
        "      data.append(create_x(x))\n",
        "      label.append(0)\n",
        "      ds.append((create_x(x),torch.tensor(0)))\n",
        "    elif y == 26:        # класс крабов\n",
        "      data.append(create_x(x))\n",
        "      label.append(1)\n",
        "      ds.append((create_x(x),torch.tensor(1)))\n",
        "  return data, label, ds"
      ],
      "metadata": {
        "id": "65Rvab5nKemL"
      },
      "execution_count": null,
      "outputs": []
    },
    {
      "cell_type": "code",
      "source": [
        "len(train_dataset)"
      ],
      "metadata": {
        "colab": {
          "base_uri": "https://localhost:8080/"
        },
        "id": "N6fbeYUIFWFl",
        "outputId": "4351e273-bafe-4cf7-f511-ebd90df00758"
      },
      "execution_count": null,
      "outputs": [
        {
          "output_type": "execute_result",
          "data": {
            "text/plain": [
              "50000"
            ]
          },
          "metadata": {},
          "execution_count": 6
        }
      ]
    },
    {
      "cell_type": "code",
      "source": [
        "data, label, ds = give_dy_classes(train_dataset)"
      ],
      "metadata": {
        "id": "roDZcdXVMKJ8"
      },
      "execution_count": null,
      "outputs": []
    },
    {
      "cell_type": "code",
      "source": [
        "# dsdjl hfpvthyjcnb rfhnbyrb\n",
        "print(data[0].shape)"
      ],
      "metadata": {
        "colab": {
          "base_uri": "https://localhost:8080/"
        },
        "id": "yXRWglFFMbfj",
        "outputId": "ad0ff297-592d-4f7a-ca7d-e7e3fbd28625"
      },
      "execution_count": null,
      "outputs": [
        {
          "output_type": "stream",
          "name": "stdout",
          "text": [
            "torch.Size([3, 32, 32])\n"
          ]
        }
      ]
    },
    {
      "cell_type": "code",
      "source": [
        "len(ds)"
      ],
      "metadata": {
        "colab": {
          "base_uri": "https://localhost:8080/"
        },
        "id": "EyPdmlqdMcw1",
        "outputId": "77b3cff4-597c-414a-84b8-8b10c5455d19"
      },
      "execution_count": null,
      "outputs": [
        {
          "output_type": "execute_result",
          "data": {
            "text/plain": [
              "1000"
            ]
          },
          "metadata": {},
          "execution_count": 10
        }
      ]
    },
    {
      "cell_type": "code",
      "source": [
        "batch_size = 32"
      ],
      "metadata": {
        "id": "mdrAeLHiOT_k"
      },
      "execution_count": null,
      "outputs": []
    },
    {
      "cell_type": "code",
      "source": [
        "# разделение полученных данных на треннеровачной и тестовой выбоки\n",
        "\n",
        "# тренеровочная для обучения модели, а тестовая, та на которй мы смотрим, как точно обучает наша модель\n",
        "import random\n",
        "ds = random.sample(ds, len(ds))\n",
        "\n",
        "train_loader = torch.utils.data.DataLoader(ds[:8000],\n",
        "                                         batch_size = batch_size,\n",
        "                                         drop_last = False)\n",
        "\n",
        "test_loader = torch.utils.data.DataLoader(ds[8000:], batch_size = batch_size,drop_last = False)"
      ],
      "metadata": {
        "id": "AulCaQ2lOTyn"
      },
      "execution_count": null,
      "outputs": []
    },
    {
      "cell_type": "code",
      "source": [
        "# создание сверточной модели\n",
        "class Net(nn.Module):\n",
        "    def __init__(self):\n",
        "        super().__init__()\n",
        "        # сверточные слои\n",
        "        self.conv1 = nn.Conv2d(3, 6, 5)\n",
        "        self.pool = nn.MaxPool2d(2, 2)\n",
        "        self.conv2 = nn.Conv2d(6, 16, 5)\n",
        "\n",
        "        # полносвязные слои\n",
        "        self.fc1 = nn.Linear(16 * 5 * 5, 120)\n",
        "        self.fc2 = nn.Linear(120, 84)\n",
        "        self.fc3 = nn.Linear(84, 2)\n",
        "\n",
        "    # склейка слоев в модель\n",
        "    def forward(self, x):\n",
        "        x = self.pool(F.relu(self.conv1(x)))\n",
        "        x = self.pool(F.relu(self.conv2(x)))\n",
        "        x = torch.flatten(x, 1) # flatten all dimensions except batch\n",
        "        x = F.relu(self.fc1(x))\n",
        "        x = F.relu(self.fc2(x))\n",
        "        x = self.fc3(x)\n",
        "        return x"
      ],
      "metadata": {
        "id": "kzJMrUYbXIE-"
      },
      "execution_count": null,
      "outputs": []
    },
    {
      "cell_type": "code",
      "source": [
        "# создание объектов модели\n",
        "model = Net()\n",
        "\n",
        "model"
      ],
      "metadata": {
        "colab": {
          "base_uri": "https://localhost:8080/"
        },
        "id": "J7SowofqOaxs",
        "outputId": "e6463a87-68bd-4306-8bf9-12c2ebf301ce"
      },
      "execution_count": null,
      "outputs": [
        {
          "output_type": "execute_result",
          "data": {
            "text/plain": [
              "Net(\n",
              "  (conv1): Conv2d(3, 6, kernel_size=(5, 5), stride=(1, 1))\n",
              "  (pool): MaxPool2d(kernel_size=2, stride=2, padding=0, dilation=1, ceil_mode=False)\n",
              "  (conv2): Conv2d(6, 16, kernel_size=(5, 5), stride=(1, 1))\n",
              "  (fc1): Linear(in_features=400, out_features=120, bias=True)\n",
              "  (fc2): Linear(in_features=120, out_features=84, bias=True)\n",
              "  (fc3): Linear(in_features=84, out_features=2, bias=True)\n",
              ")"
            ]
          },
          "metadata": {},
          "execution_count": 14
        }
      ]
    },
    {
      "cell_type": "code",
      "source": [
        "# для обучения указываем функцию потеть\n",
        "criterion = nn.CrossEntropyLoss()\n",
        "\n",
        "# указываем оптимизатор и его параметры\n",
        "optimizer = torch.optim.SGD(model.parameters(), lr= 0.1)"
      ],
      "metadata": {
        "id": "DWb9tRBdOauX"
      },
      "execution_count": null,
      "outputs": []
    },
    {
      "cell_type": "code",
      "source": [
        "# фцнкция для обучения модели\n",
        "def fit(model, criterion, optimizer, train_loader):\n",
        "  n_epochs = 50\n",
        "  loss_trn = []\n",
        "  acc_trn = []\n",
        "\n",
        "  for epoch in range(1, n_epochs+1):\n",
        "      train_loss = 0.0\n",
        "      correct = 0.0\n",
        "      total = 0\n",
        "\n",
        "      for data ,true_img  in train_loader:\n",
        "          noise_img = data\n",
        "          optimizer.zero_grad()\n",
        "\n",
        "          outputs = model(noise_img)\n",
        "\n",
        "          loss = criterion(outputs, true_img)\n",
        "          loss.backward()\n",
        "          optimizer.step()\n",
        "          train_loss += loss.item()*true_img.size(0)\n",
        "\n",
        "          total += true_img.size(0)\n",
        "          _, predicted = torch.max(outputs.data, 1)\n",
        "          correct += (predicted == true_img).sum().item()\n",
        "\n",
        "      train_loss = train_loss/len(train_loader)/100\n",
        "      correct = 100. * correct / total\n",
        "      loss_trn.append(train_loss)\n",
        "      acc_trn.append(correct)\n",
        "      print('Epoch: {} \\tTraining Loss: {:.6f} \\tAccurasu: {:.2f}%'.format(epoch, train_loss, correct))\n",
        "  return loss_trn, acc_trn"
      ],
      "metadata": {
        "id": "Xx01tCiYPasK"
      },
      "execution_count": null,
      "outputs": []
    },
    {
      "cell_type": "code",
      "source": [
        "loss_trn, acc_trn = fit(model, criterion, optimizer, train_loader)"
      ],
      "metadata": {
        "colab": {
          "base_uri": "https://localhost:8080/"
        },
        "id": "zGDSD9bbPaor",
        "outputId": "ee33b104-a719-43ca-d6c6-ae14f9d6627f"
      },
      "execution_count": null,
      "outputs": [
        {
          "output_type": "stream",
          "name": "stdout",
          "text": [
            "Epoch: 1 \tTraining Loss: 0.216281 \tAccurasu: 53.00%\n",
            "Epoch: 2 \tTraining Loss: 0.215393 \tAccurasu: 52.70%\n",
            "Epoch: 3 \tTraining Loss: 0.213333 \tAccurasu: 56.50%\n",
            "Epoch: 4 \tTraining Loss: 0.209653 \tAccurasu: 59.60%\n",
            "Epoch: 5 \tTraining Loss: 0.211620 \tAccurasu: 60.10%\n",
            "Epoch: 6 \tTraining Loss: 0.212200 \tAccurasu: 58.40%\n",
            "Epoch: 7 \tTraining Loss: 0.210373 \tAccurasu: 61.30%\n",
            "Epoch: 8 \tTraining Loss: 0.207495 \tAccurasu: 60.50%\n",
            "Epoch: 9 \tTraining Loss: 0.203647 \tAccurasu: 62.00%\n",
            "Epoch: 10 \tTraining Loss: 0.207133 \tAccurasu: 61.10%\n",
            "Epoch: 11 \tTraining Loss: 0.210244 \tAccurasu: 60.30%\n",
            "Epoch: 12 \tTraining Loss: 0.196867 \tAccurasu: 65.40%\n",
            "Epoch: 13 \tTraining Loss: 0.221081 \tAccurasu: 56.90%\n",
            "Epoch: 14 \tTraining Loss: 0.205481 \tAccurasu: 62.50%\n",
            "Epoch: 15 \tTraining Loss: 0.195749 \tAccurasu: 67.10%\n",
            "Epoch: 16 \tTraining Loss: 0.201470 \tAccurasu: 65.50%\n",
            "Epoch: 17 \tTraining Loss: 0.209614 \tAccurasu: 62.40%\n",
            "Epoch: 18 \tTraining Loss: 0.195292 \tAccurasu: 68.50%\n",
            "Epoch: 19 \tTraining Loss: 0.192996 \tAccurasu: 68.70%\n",
            "Epoch: 20 \tTraining Loss: 0.192472 \tAccurasu: 68.80%\n",
            "Epoch: 21 \tTraining Loss: 0.187135 \tAccurasu: 69.70%\n",
            "Epoch: 22 \tTraining Loss: 0.186782 \tAccurasu: 69.60%\n",
            "Epoch: 23 \tTraining Loss: 0.182666 \tAccurasu: 69.80%\n",
            "Epoch: 24 \tTraining Loss: 0.176599 \tAccurasu: 71.70%\n",
            "Epoch: 25 \tTraining Loss: 0.174952 \tAccurasu: 71.50%\n",
            "Epoch: 26 \tTraining Loss: 0.171541 \tAccurasu: 73.40%\n",
            "Epoch: 27 \tTraining Loss: 0.171226 \tAccurasu: 73.30%\n",
            "Epoch: 28 \tTraining Loss: 0.166417 \tAccurasu: 73.90%\n",
            "Epoch: 29 \tTraining Loss: 0.162916 \tAccurasu: 74.50%\n",
            "Epoch: 30 \tTraining Loss: 0.160179 \tAccurasu: 74.50%\n",
            "Epoch: 31 \tTraining Loss: 0.157542 \tAccurasu: 76.50%\n",
            "Epoch: 32 \tTraining Loss: 0.157206 \tAccurasu: 76.30%\n",
            "Epoch: 33 \tTraining Loss: 0.157496 \tAccurasu: 76.40%\n",
            "Epoch: 34 \tTraining Loss: 0.156245 \tAccurasu: 75.20%\n",
            "Epoch: 35 \tTraining Loss: 0.150619 \tAccurasu: 78.10%\n",
            "Epoch: 36 \tTraining Loss: 0.145756 \tAccurasu: 79.60%\n",
            "Epoch: 37 \tTraining Loss: 0.137668 \tAccurasu: 80.10%\n",
            "Epoch: 38 \tTraining Loss: 0.142836 \tAccurasu: 80.40%\n",
            "Epoch: 39 \tTraining Loss: 0.129089 \tAccurasu: 82.80%\n",
            "Epoch: 40 \tTraining Loss: 0.132440 \tAccurasu: 81.80%\n",
            "Epoch: 41 \tTraining Loss: 0.129964 \tAccurasu: 81.80%\n",
            "Epoch: 42 \tTraining Loss: 0.125599 \tAccurasu: 82.60%\n",
            "Epoch: 43 \tTraining Loss: 0.113568 \tAccurasu: 86.00%\n",
            "Epoch: 44 \tTraining Loss: 0.115192 \tAccurasu: 84.50%\n",
            "Epoch: 45 \tTraining Loss: 0.117278 \tAccurasu: 83.30%\n",
            "Epoch: 46 \tTraining Loss: 0.095993 \tAccurasu: 87.60%\n",
            "Epoch: 47 \tTraining Loss: 0.087482 \tAccurasu: 89.40%\n",
            "Epoch: 48 \tTraining Loss: 0.108734 \tAccurasu: 84.00%\n",
            "Epoch: 49 \tTraining Loss: 0.101237 \tAccurasu: 86.50%\n",
            "Epoch: 50 \tTraining Loss: 0.081417 \tAccurasu: 89.30%\n"
          ]
        }
      ]
    },
    {
      "cell_type": "code",
      "source": [
        "# вывод параметров точности и потерь(точность должна быть максимально большей и стремится к 1, т.е. к 100% , а потери стремятся к мин значению, т.е. к 0)\n",
        "plt.plot(loss_trn[0:])\n",
        "plt.plot(np.array(acc_trn[0:])/100)\n",
        "plt.title('Потери на этапах проверки обучения')\n",
        "plt.ylabel('Потери')\n",
        "plt.xlabel('Эпохи')\n",
        "plt.legend(['loos', 'acc'], loc='upper left')\n",
        "plt.show()"
      ],
      "metadata": {
        "colab": {
          "base_uri": "https://localhost:8080/",
          "height": 472
        },
        "id": "A8mGz8YSOart",
        "outputId": "48998a1f-ccc3-499a-dc50-8afe41f8c1e4"
      },
      "execution_count": null,
      "outputs": [
        {
          "output_type": "display_data",
          "data": {
            "text/plain": [
              "<Figure size 640x480 with 1 Axes>"
            ],
            "image/png": "[encoded data removed]"
          },
          "metadata": {}
        }
      ]
    },
    {
      "cell_type": "code",
      "source": [],
      "metadata": {
        "id": "I18iJDpr2xK_"
      },
      "execution_count": null,
      "outputs": []
    },
    {
      "cell_type": "code",
      "source": [],
      "metadata": {
        "id": "TIgokW2J2403"
      },
      "execution_count": null,
      "outputs": []
    }
  ]
}