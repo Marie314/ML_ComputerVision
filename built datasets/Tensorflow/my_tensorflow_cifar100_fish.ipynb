{
  "nbformat": 4,
  "nbformat_minor": 0,
  "metadata": {
    "colab": {
      "provenance": []
    },
    "kernelspec": {
      "name": "python3",
      "display_name": "Python 3"
    },
    "language_info": {
      "name": "python"
    }
  },
  "cells": [
    {
      "cell_type": "code",
      "execution_count": null,
      "metadata": {
        "id": "5HHPzUsoD_ch"
      },
      "outputs": [],
      "source": [
        "import tensorflow as tf\n",
        "import numpy as np\n",
        "import matplotlib.pyplot as plt\n",
        "from tensorflow.keras.datasets import cifar100\n",
        "import numpy as np"
      ]
    },
    {
      "cell_type": "code",
      "source": [
        "(x_trn, y_trn), (x_tst, y_tst) = cifar100.load_data(label_mode='fine')"
      ],
      "metadata": {
        "id": "6-V27Wo6EeTh"
      },
      "execution_count": null,
      "outputs": []
    },
    {
      "cell_type": "code",
      "source": [
        "# Фильтрация изображений по классам \"морские животные\" и \"рыбы\"\n",
        "# индекс класса \"морских животных\" (\tbeaver - 4, dolphin - 30, otter - 55, seal - 72, whale - 95)\n",
        "\n",
        "# индекс класса \"рыб\" (\taquarium fish - 1, flatfish - 32, ray - 67, shark - 73, trout -91)\n",
        "\n",
        "x_image_beaver_trn = x_trn[y_trn.flatten() == 4]\n",
        "x_image_dolphin_trn = x_trn[y_trn.flatten() == 30]\n",
        "x_image_otter_trn = x_trn[y_trn.flatten() == 55]\n",
        "x_image_seal_trn = x_trn[y_trn.flatten() == 72]\n",
        "x_image_whale_trn = x_trn[y_trn.flatten() == 95]\n",
        "\n",
        "x_image_aquarium_fish_trn = x_trn[y_trn.flatten() == 1]\n",
        "x_image_flatfish_trn = x_trn[y_trn.flatten() == 32]\n",
        "x_image_ray_trn = x_trn[y_trn.flatten() == 67]\n",
        "x_image_shark_trn = x_trn[y_trn.flatten() == 73]\n",
        "x_image_trout_trn = x_trn[y_trn.flatten() == 91]\n",
        "\n",
        "\n",
        "\n",
        "x_image_beaver_tst = x_tst[y_tst.flatten() == 4]\n",
        "x_image_dolphin_tst = x_tst[y_tst.flatten() == 30]\n",
        "x_image_otter_tst = x_tst[y_tst.flatten() == 55]\n",
        "x_image_seal_tst = x_tst[y_tst.flatten() == 72]\n",
        "x_image_whale_tst = x_tst[y_tst.flatten() == 95]\n",
        "\n",
        "x_image_aquarium_fish_tst = x_tst[y_tst.flatten() == 1]\n",
        "x_image_flatfish_tst = x_tst[y_tst.flatten() == 32]\n",
        "x_image_ray_tst = x_tst[y_tst.flatten() == 67]\n",
        "x_image_shark_tst = x_tst[y_tst.flatten() == 73]\n",
        "x_image_trout_tst = x_tst[y_tst.flatten() == 91]"
      ],
      "metadata": {
        "id": "kehr7IWKEpT4"
      },
      "execution_count": null,
      "outputs": []
    },
    {
      "cell_type": "code",
      "source": [
        "def create_x(img1, img2, img3, img4, img5):\n",
        "  x_image = np.append(img1, img2, axis=0)\n",
        "  x_image = np.append(x_image, img3, axis=0)\n",
        "  x_image = np.append(x_image, img4, axis=0)\n",
        "  x_image = np.append(x_image, img5 ,axis=0)\n",
        "  return x_image"
      ],
      "metadata": {
        "id": "tuJVUBNsVcbx"
      },
      "execution_count": null,
      "outputs": []
    },
    {
      "cell_type": "code",
      "source": [
        "# trn\n",
        "x_image_zeros_trn = create_x(x_image_beaver_trn, x_image_dolphin_trn, x_image_otter_trn, x_image_seal_trn, x_image_whale_trn)\n",
        "x_image_ones_trn = create_x(x_image_aquarium_fish_trn, x_image_flatfish_trn, x_image_ray_trn, x_image_shark_trn, x_image_trout_trn)\n",
        "\n",
        "x_image_trn = np.append(x_image_zeros_trn, x_image_ones_trn ,axis=0)\n",
        "y_label_trn = np.append(np.zeros(len(x_image_zeros_trn)),np.ones(len(x_image_ones_trn)) ,axis=0)\n",
        "\n",
        "\n",
        "#tst\n",
        "x_image_zeros_tst = create_x(x_image_beaver_tst, x_image_dolphin_tst, x_image_otter_tst, x_image_seal_tst, x_image_whale_tst)\n",
        "x_image_ones_tst = create_x(x_image_aquarium_fish_tst, x_image_flatfish_tst, x_image_ray_tst, x_image_shark_tst, x_image_trout_tst)\n",
        "\n",
        "x_image_tst = np.append(x_image_zeros_tst, x_image_ones_tst ,axis=0)\n",
        "y_label_tst = np.append(np.zeros(len(x_image_zeros_tst)), np.ones(len(x_image_ones_tst)) ,axis=0)\n",
        "\n",
        "print(x_image_tst.shape)\n",
        "print(y_label_tst.shape)"
      ],
      "metadata": {
        "colab": {
          "base_uri": "https://localhost:8080/"
        },
        "id": "31rqtK-BF8V4",
        "outputId": "025b5fbc-d3b6-42c3-98d9-38ca0ee22581"
      },
      "execution_count": null,
      "outputs": [
        {
          "output_type": "stream",
          "name": "stdout",
          "text": [
            "(1000, 32, 32, 3)\n",
            "(1000,)\n"
          ]
        }
      ]
    },
    {
      "cell_type": "code",
      "source": [
        "num_features = 32 * 32\n",
        "num_classes = 2\n",
        "\n",
        "lr = 0.01\n",
        "epochs = 10000\n",
        "batch_size = 64\n",
        "display_epoch = 10"
      ],
      "metadata": {
        "id": "39YE4l7THqvH"
      },
      "execution_count": null,
      "outputs": []
    },
    {
      "cell_type": "code",
      "source": [
        "x_train = (np.array(x_image_trn, np.float32)).reshape(([-1, num_features * 3])) / 255.0\n",
        "x_test = (np.array(x_image_tst, np.float32)).reshape(([-1, num_features * 3])) / 255.0\n",
        "\n",
        "\n",
        "y_train = tf.one_hot(y_label_trn, depth = num_classes)\n",
        "y_test = tf.one_hot(y_label_tst, depth = num_classes)"
      ],
      "metadata": {
        "id": "6CRVyz6IHwsL"
      },
      "execution_count": null,
      "outputs": []
    },
    {
      "cell_type": "code",
      "source": [
        "y_test[:10]"
      ],
      "metadata": {
        "colab": {
          "base_uri": "https://localhost:8080/"
        },
        "id": "gAmlPCHJH1Df",
        "outputId": "12d70319-06ef-4b9b-bd06-c679bb331ec0"
      },
      "execution_count": null,
      "outputs": [
        {
          "output_type": "execute_result",
          "data": {
            "text/plain": [
              "<tf.Tensor: shape=(10, 2), dtype=float32, numpy=\n",
              "array([[1., 0.],\n",
              "       [1., 0.],\n",
              "       [1., 0.],\n",
              "       [1., 0.],\n",
              "       [1., 0.],\n",
              "       [1., 0.],\n",
              "       [1., 0.],\n",
              "       [1., 0.],\n",
              "       [1., 0.],\n",
              "       [1., 0.]], dtype=float32)>"
            ]
          },
          "metadata": {},
          "execution_count": 245
        }
      ]
    },
    {
      "cell_type": "code",
      "source": [
        "train_data = tf.data.Dataset.from_tensor_slices((x_train, y_train))\n",
        "train_data = train_data.repeat().shuffle(5000).batch(batch_size).prefetch(tf.data.AUTOTUNE)\n",
        "print(train_data)"
      ],
      "metadata": {
        "colab": {
          "base_uri": "https://localhost:8080/"
        },
        "id": "nJqFkVrgKcL2",
        "outputId": "1032bdb0-dcaa-40fa-cd8a-2a12c8e5cebb"
      },
      "execution_count": null,
      "outputs": [
        {
          "output_type": "stream",
          "name": "stdout",
          "text": [
            "<_PrefetchDataset element_spec=(TensorSpec(shape=(None, 3072), dtype=tf.float32, name=None), TensorSpec(shape=(None, 2), dtype=tf.float32, name=None))>\n"
          ]
        }
      ]
    },
    {
      "cell_type": "code",
      "source": [
        "all_losses = []\n",
        "all_accuracy = []\n",
        "all_epochs = []"
      ],
      "metadata": {
        "id": "wjjHYtvCKR_4"
      },
      "execution_count": null,
      "outputs": []
    },
    {
      "cell_type": "code",
      "source": [
        "class Model(object):\n",
        "    def __init__(self):\n",
        "        rnd_norm = tf.initializers.RandomNormal()\n",
        "        self.W1 = tf.Variable(rnd_norm([num_features * 3, 128]))\n",
        "        self.W2 = tf.Variable(rnd_norm([128, 64]))\n",
        "        self.W3 = tf.Variable(rnd_norm([64, 32]))\n",
        "        self.Wout = tf.Variable(rnd_norm([32, 2]))\n",
        "        self.B1 = tf.Variable(tf.zeros([128]))\n",
        "        self.B2 = tf.Variable(tf.zeros([64]))\n",
        "        self.B3 = tf.Variable(tf.zeros([32]))\n",
        "        self.Bout = tf.Variable(tf.zeros([2]))\n",
        "\n",
        "\n",
        "    def forward(self, x):\n",
        "        self.layer1 = tf.nn.sigmoid(tf.add(tf.matmul(x, self.W1), self.B1))\n",
        "        self.layer2 = tf.nn.sigmoid(tf.add(tf.matmul(self.layer1, self.W2), self.B2))\n",
        "        self.layer3 = tf.nn.sigmoid(tf.add(tf.matmul(self.layer2, self.W3), self.B3))\n",
        "        self.output = tf.nn.softmax(tf.add(tf.matmul(self.layer3, self.Wout), self.Bout))\n",
        "        return self.output"
      ],
      "metadata": {
        "id": "o8oZevZPJJQf"
      },
      "execution_count": null,
      "outputs": []
    },
    {
      "cell_type": "code",
      "source": [
        "def loss(y_pred, y_target):\n",
        "    cross_entropy = tf.reduce_mean(-tf.reduce_sum(y_target * tf.math.log(y_pred)))\n",
        "    return cross_entropy"
      ],
      "metadata": {
        "id": "OaAyvmWgJJNP"
      },
      "execution_count": null,
      "outputs": []
    },
    {
      "cell_type": "code",
      "source": [
        "def accuracy(y_pred, y_target):\n",
        "    correct_pred = tf.equal(tf.argmax(y_pred, 1), tf.argmax(y_target, 1))\n",
        "    acc = tf.reduce_mean(tf.cast(correct_pred, tf.float32))\n",
        "    return acc"
      ],
      "metadata": {
        "id": "H15g-mYZJJLI"
      },
      "execution_count": null,
      "outputs": []
    },
    {
      "cell_type": "code",
      "source": [
        "model = Model()\n",
        "optimizer = tf.optimizers.SGD(lr)"
      ],
      "metadata": {
        "colab": {
          "base_uri": "https://localhost:8080/"
        },
        "id": "azKylp1eJJIz",
        "outputId": "d6b372aa-6bb5-4b10-9b87-4865683ec50b"
      },
      "execution_count": null,
      "outputs": [
        {
          "output_type": "stream",
          "name": "stderr",
          "text": [
            "/usr/local/lib/python3.10/dist-packages/keras/initializers/initializers.py:120: UserWarning: The initializer RandomNormal is unseeded and being called multiple times, which will return identical values each time (even if the initializer is unseeded). Please update your code to provide a seed to the initializer, or avoid using the same initalizer instance more than once.\n",
            "  warnings.warn(\n"
          ]
        }
      ]
    },
    {
      "cell_type": "code",
      "source": [
        "def optimization(x, y):\n",
        "    with tf.GradientTape() as gt:\n",
        "        cur_loss = loss(model.forward(x), y)\n",
        "\n",
        "    trainable_variables = [model.W1, model.W2, model.W3, model.Wout, model.B1, model.B2, model.B3, model.Bout]\n",
        "    grad = gt.gradient(cur_loss, trainable_variables)\n",
        "    optimizer.apply_gradients(zip(grad, trainable_variables))"
      ],
      "metadata": {
        "id": "75FOewD8JJGi"
      },
      "execution_count": null,
      "outputs": []
    },
    {
      "cell_type": "code",
      "source": [
        "def train(epochs):\n",
        "    for epoch, (batch_x, batch_y) in enumerate(train_data.take(epochs), 1):\n",
        "        optimization(batch_x, batch_y)\n",
        "        if(epoch % 100 == 0):\n",
        "            pred = model.forward(batch_x)\n",
        "            loss_r = loss(pred, batch_y)\n",
        "            acc_r = accuracy(pred, batch_y)\n",
        "            all_losses.append(loss_r)\n",
        "            all_accuracy.append(acc_r)\n",
        "            all_epochs.append(epoch)\n",
        "            print(\"Epoch {0} Loss is {1} Accuracy is {2}\".format(epoch, loss_r, acc_r))\n",
        "\n",
        "    return model"
      ],
      "metadata": {
        "id": "liJu-nuWKIBD"
      },
      "execution_count": null,
      "outputs": []
    },
    {
      "cell_type": "code",
      "source": [
        "model = train(7000)"
      ],
      "metadata": {
        "colab": {
          "base_uri": "https://localhost:8080/"
        },
        "id": "Fg9XKt8XKH9u",
        "outputId": "327e6835-8333-4997-b5d6-8f5369c18810"
      },
      "execution_count": null,
      "outputs": [
        {
          "output_type": "stream",
          "name": "stdout",
          "text": [
            "Epoch 100 Loss is 44.23456573486328 Accuracy is 0.53125\n",
            "Epoch 200 Loss is 44.409236907958984 Accuracy is 0.5\n",
            "Epoch 300 Loss is 42.35166549682617 Accuracy is 0.625\n",
            "Epoch 400 Loss is 43.62193298339844 Accuracy is 0.578125\n",
            "Epoch 500 Loss is 43.29901123046875 Accuracy is 0.59375\n",
            "Epoch 600 Loss is 44.28205871582031 Accuracy is 0.484375\n",
            "Epoch 700 Loss is 42.73082733154297 Accuracy is 0.5625\n",
            "Epoch 800 Loss is 36.286407470703125 Accuracy is 0.765625\n",
            "Epoch 900 Loss is 31.873138427734375 Accuracy is 0.765625\n",
            "Epoch 1000 Loss is 39.25028991699219 Accuracy is 0.65625\n",
            "Epoch 1100 Loss is 39.74945831298828 Accuracy is 0.59375\n",
            "Epoch 1200 Loss is 34.845333099365234 Accuracy is 0.765625\n",
            "Epoch 1300 Loss is 35.4542350769043 Accuracy is 0.71875\n",
            "Epoch 1400 Loss is 32.34001159667969 Accuracy is 0.71875\n",
            "Epoch 1500 Loss is 38.482688903808594 Accuracy is 0.671875\n",
            "Epoch 1600 Loss is 34.43408966064453 Accuracy is 0.78125\n",
            "Epoch 1700 Loss is 37.11182403564453 Accuracy is 0.703125\n",
            "Epoch 1800 Loss is 32.08201599121094 Accuracy is 0.703125\n",
            "Epoch 1900 Loss is 36.47513961791992 Accuracy is 0.71875\n",
            "Epoch 2000 Loss is 34.26422882080078 Accuracy is 0.796875\n",
            "Epoch 2100 Loss is 32.59425354003906 Accuracy is 0.734375\n",
            "Epoch 2200 Loss is 33.454803466796875 Accuracy is 0.75\n",
            "Epoch 2300 Loss is 29.19072914123535 Accuracy is 0.75\n",
            "Epoch 2400 Loss is 32.03290557861328 Accuracy is 0.75\n",
            "Epoch 2500 Loss is 34.9253044128418 Accuracy is 0.703125\n",
            "Epoch 2600 Loss is 29.593048095703125 Accuracy is 0.8125\n",
            "Epoch 2700 Loss is 31.771175384521484 Accuracy is 0.75\n",
            "Epoch 2800 Loss is 33.92436981201172 Accuracy is 0.734375\n",
            "Epoch 2900 Loss is 31.679046630859375 Accuracy is 0.78125\n",
            "Epoch 3000 Loss is 31.059391021728516 Accuracy is 0.78125\n",
            "Epoch 3100 Loss is 33.057090759277344 Accuracy is 0.734375\n",
            "Epoch 3200 Loss is 29.578235626220703 Accuracy is 0.78125\n",
            "Epoch 3300 Loss is 29.360034942626953 Accuracy is 0.78125\n",
            "Epoch 3400 Loss is 26.186634063720703 Accuracy is 0.84375\n",
            "Epoch 3500 Loss is 41.302852630615234 Accuracy is 0.65625\n",
            "Epoch 3600 Loss is 32.16324996948242 Accuracy is 0.703125\n",
            "Epoch 3700 Loss is 25.045631408691406 Accuracy is 0.828125\n",
            "Epoch 3800 Loss is 23.04315185546875 Accuracy is 0.84375\n",
            "Epoch 3900 Loss is 23.72663116455078 Accuracy is 0.84375\n",
            "Epoch 4000 Loss is 25.695131301879883 Accuracy is 0.84375\n",
            "Epoch 4100 Loss is 27.655248641967773 Accuracy is 0.828125\n",
            "Epoch 4200 Loss is 26.60140037536621 Accuracy is 0.8125\n",
            "Epoch 4300 Loss is 28.337276458740234 Accuracy is 0.765625\n",
            "Epoch 4400 Loss is 24.97482681274414 Accuracy is 0.875\n",
            "Epoch 4500 Loss is 30.647445678710938 Accuracy is 0.734375\n",
            "Epoch 4600 Loss is 34.56098175048828 Accuracy is 0.734375\n",
            "Epoch 4700 Loss is 19.244937896728516 Accuracy is 0.90625\n",
            "Epoch 4800 Loss is 24.195934295654297 Accuracy is 0.828125\n",
            "Epoch 4900 Loss is 30.726791381835938 Accuracy is 0.75\n",
            "Epoch 5000 Loss is 33.847312927246094 Accuracy is 0.734375\n",
            "Epoch 5100 Loss is 29.032915115356445 Accuracy is 0.75\n",
            "Epoch 5200 Loss is 27.70969581604004 Accuracy is 0.78125\n",
            "Epoch 5300 Loss is 23.32910919189453 Accuracy is 0.859375\n",
            "Epoch 5400 Loss is 27.26109504699707 Accuracy is 0.796875\n",
            "Epoch 5500 Loss is 22.481611251831055 Accuracy is 0.84375\n",
            "Epoch 5600 Loss is 23.16181755065918 Accuracy is 0.859375\n",
            "Epoch 5700 Loss is 22.660133361816406 Accuracy is 0.796875\n",
            "Epoch 5800 Loss is 29.187843322753906 Accuracy is 0.765625\n",
            "Epoch 5900 Loss is 24.864402770996094 Accuracy is 0.890625\n",
            "Epoch 6000 Loss is 25.725488662719727 Accuracy is 0.8125\n",
            "Epoch 6100 Loss is 28.524995803833008 Accuracy is 0.78125\n",
            "Epoch 6200 Loss is 16.68362045288086 Accuracy is 0.96875\n",
            "Epoch 6300 Loss is 22.096664428710938 Accuracy is 0.828125\n",
            "Epoch 6400 Loss is 22.897003173828125 Accuracy is 0.859375\n",
            "Epoch 6500 Loss is 23.083383560180664 Accuracy is 0.84375\n",
            "Epoch 6600 Loss is 26.882978439331055 Accuracy is 0.8125\n",
            "Epoch 6700 Loss is 26.80470848083496 Accuracy is 0.796875\n",
            "Epoch 6800 Loss is 25.559038162231445 Accuracy is 0.765625\n",
            "Epoch 6900 Loss is 32.293148040771484 Accuracy is 0.734375\n",
            "Epoch 7000 Loss is 20.0655517578125 Accuracy is 0.859375\n"
          ]
        }
      ]
    },
    {
      "cell_type": "code",
      "source": [
        "pred_val = model.forward(x_test)\n",
        "print(\"Test accuracy is %f\" % accuracy(pred_val, y_test))"
      ],
      "metadata": {
        "colab": {
          "base_uri": "https://localhost:8080/"
        },
        "id": "X4nVJisCKH7V",
        "outputId": "030806eb-2588-4724-c0db-cd24722da88a"
      },
      "execution_count": null,
      "outputs": [
        {
          "output_type": "stream",
          "name": "stdout",
          "text": [
            "Test accuracy is 0.671000\n"
          ]
        }
      ]
    },
    {
      "cell_type": "code",
      "source": [
        "all_losses = np.array(all_losses) / 100.0\n",
        "\n",
        "fig, axs = plt.subplots(figsize = (10, 5))\n",
        "plt.plot(all_epochs, all_losses, label = \"loss\")\n",
        "plt.plot(all_epochs, all_accuracy, label = \"accuracy\")\n",
        "plt.legend()\n",
        "plt.show()"
      ],
      "metadata": {
        "colab": {
          "base_uri": "https://localhost:8080/",
          "height": 447
        },
        "id": "jyv3NA2bKH5I",
        "outputId": "f298cb79-02e6-4f01-d298-c33ab06d0560"
      },
      "execution_count": null,
      "outputs": [
        {
          "output_type": "display_data",
          "data": {
            "text/plain": [
              "<Figure size 1000x500 with 1 Axes>"
            ],
            "image/png": "[encoded data removed]"
          },
          "metadata": {}
        }
      ]
    },
    {
      "cell_type": "code",
      "source": [],
      "metadata": {
        "id": "U2PrUfEriSqB"
      },
      "execution_count": null,
      "outputs": []
    },
    {
      "cell_type": "code",
      "source": [],
      "metadata": {
        "id": "6zn60ZToiSmf"
      },
      "execution_count": null,
      "outputs": []
    },
    {
      "cell_type": "code",
      "source": [],
      "metadata": {
        "id": "3dgXxV98iSkF"
      },
      "execution_count": null,
      "outputs": []
    },
    {
      "cell_type": "code",
      "source": [],
      "metadata": {
        "id": "BompjbTAiShO"
      },
      "execution_count": null,
      "outputs": []
    },
    {
      "cell_type": "code",
      "source": [],
      "metadata": {
        "id": "h2lT8nbciSej"
      },
      "execution_count": null,
      "outputs": []
    },
    {
      "cell_type": "code",
      "source": [],
      "metadata": {
        "id": "Cj8-oBBGiScK"
      },
      "execution_count": null,
      "outputs": []
    },
    {
      "cell_type": "code",
      "source": [],
      "metadata": {
        "id": "1d4AZqtpKH2t"
      },
      "execution_count": null,
      "outputs": []
    },
    {
      "cell_type": "code",
      "source": [],
      "metadata": {
        "id": "B_ThK21AKH0Y"
      },
      "execution_count": null,
      "outputs": []
    }
  ]
}