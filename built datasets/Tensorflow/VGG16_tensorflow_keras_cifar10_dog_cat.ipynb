{
  "nbformat": 4,
  "nbformat_minor": 0,
  "metadata": {
    "colab": {
      "provenance": []
    },
    "kernelspec": {
      "name": "python3",
      "display_name": "Python 3"
    },
    "language_info": {
      "name": "python"
    }
  },
  "cells": [
    {
      "cell_type": "markdown",
      "source": [
        "ЗАДАНИЕ: Используя предобученную модель VGG и набор данных Cyfar-10 создать классификатор дляраспознования собак и кошек. Классификатор реализовать с использованием Tensorflow"
      ],
      "metadata": {
        "id": "oWdNwoa8vasH"
      }
    },
    {
      "cell_type": "code",
      "execution_count": null,
      "metadata": {
        "id": "B7-8V_A7ubta"
      },
      "outputs": [],
      "source": [
        "import tensorflow as tf\n",
        "from tensorflow.keras.datasets import cifar10\n",
        "from tensorflow.keras.applications import VGG16\n",
        "from sklearn.model_selection import train_test_split\n",
        "from tensorflow.keras.models import Model\n",
        "from tensorflow.keras.optimizers import Adam\n",
        "from tensorflow.keras.layers import Dense, GlobalAveragePooling2D\n",
        "import numpy as np\n",
        "import matplotlib.pyplot as plt"
      ]
    },
    {
      "cell_type": "code",
      "source": [
        "# загружаем датасет cifar10\n",
        "(x_trn, y_trn), (x_tst, y_tst) = cifar10.load_data()"
      ],
      "metadata": {
        "id": "HdH8vXX9u-Ca"
      },
      "execution_count": null,
      "outputs": []
    },
    {
      "cell_type": "code",
      "source": [
        "# получаем из датасета данные по кошкам и собакам\n",
        "cat_indices_train = np.where((y_trn == 3))[0]\n",
        "cat_indices_test = np.where((y_tst == 3))[0]\n",
        "dog_indices_train = np.where((y_trn == 5))[0]\n",
        "dog_indices_test = np.where((y_tst == 5))[0]"
      ],
      "metadata": {
        "id": "_RIWYKAFzHon"
      },
      "execution_count": null,
      "outputs": []
    },
    {
      "cell_type": "code",
      "source": [
        "# cобъединяем все полученные картинки с животными в один датасет\n",
        "selected_indices = np.concatenate((cat_indices_train, cat_indices_test, dog_indices_train, dog_indices_test))"
      ],
      "metadata": {
        "id": "08z9fd3uzXy1"
      },
      "execution_count": null,
      "outputs": []
    },
    {
      "cell_type": "code",
      "source": [
        "x_selected = np.concatenate((x_trn, x_tst))[selected_indices]\n",
        "y_selected = np.concatenate((y_trn, y_tst))[selected_indices]"
      ],
      "metadata": {
        "id": "ig3FJU4N0F1A"
      },
      "execution_count": null,
      "outputs": []
    },
    {
      "cell_type": "code",
      "source": [
        "# из общих данных получаем тестовую и тренировочную выборки\n",
        "# 20% уходит в тестовую выборку, остальное в тренеровочную\n",
        "x_train, x_test, y_train, y_test = train_test_split(x_selected, y_selected, test_size=0.2, random_state=42)"
      ],
      "metadata": {
        "id": "AirVSRcn0Svd"
      },
      "execution_count": null,
      "outputs": []
    },
    {
      "cell_type": "code",
      "source": [
        "# уменьшаем диапозон пикселей (что б они принимали значения от 0 и до 1)\n",
        "x_train = x9_train.astype('float32') / 255.0\n",
        "x_test = x_test.astype('float32') / 255.0"
      ],
      "metadata": {
        "id": "VfpgsxC80Uhj"
      },
      "execution_count": null,
      "outputs": []
    },
    {
      "cell_type": "code",
      "source": [
        "# меняем У что б У были 0 или 1\n",
        "def change_labels_train():\n",
        "  res = []\n",
        "  for i in range(len(y_train)):\n",
        "    if(y_train[i] == 3):\n",
        "      res.append(0)\n",
        "    else:\n",
        "      res.append(1)\n",
        "  return res\n",
        "\n",
        "def change_labels_test():\n",
        "  res = []\n",
        "  for i in range(len(y_test)):\n",
        "    if(y_train[i] == 3):\n",
        "      res.append(0)\n",
        "    else:\n",
        "      res.append(1)\n",
        "  return res"
      ],
      "metadata": {
        "id": "fDvs4jRq1i1J"
      },
      "execution_count": null,
      "outputs": []
    },
    {
      "cell_type": "code",
      "source": [
        "y_train = change_labels_train()\n",
        "y_test = change_labels_test()"
      ],
      "metadata": {
        "id": "PKGYkQaW2Bfq"
      },
      "execution_count": null,
      "outputs": []
    },
    {
      "cell_type": "code",
      "source": [
        "num_classes = 2\n",
        "\n",
        "y_train = tf.keras.utils.to_categorical(y_train, num_classes)\n",
        "y_test = tf.keras.utils.to_categorical(y_test, num_classes)"
      ],
      "metadata": {
        "id": "_8V43Ffd2DEz"
      },
      "execution_count": null,
      "outputs": []
    },
    {
      "cell_type": "code",
      "source": [
        "# вывод размерностей\n",
        "print(f\"X train shape: {x_train.shape}\")\n",
        "print(f\"X test shape: {x_test.shape}\")\n",
        "print(f\"Y train shape: {y_train.shape}\")\n",
        "print(f\"Y test shape: {y_test.shape}\")"
      ],
      "metadata": {
        "colab": {
          "base_uri": "https://localhost:8080/"
        },
        "id": "0XuKCNqQ4Az8",
        "outputId": "bf5099b3-38aa-464f-984b-cee3ebd29330"
      },
      "execution_count": null,
      "outputs": [
        {
          "output_type": "stream",
          "name": "stdout",
          "text": [
            "X train shape: (9600, 32, 32, 3)\n",
            "X test shape: (2400, 32, 32, 3)\n",
            "Y train shape: (9600, 2)\n",
            "Y test shape: (2400, 2)\n"
          ]
        }
      ]
    },
    {
      "cell_type": "code",
      "source": [
        "# загружаем сеть VGG с уже обучеными весами\n",
        "vgg16_net = VGG16(weights='imagenet',\n",
        "                  include_top=False,\n",
        "                  input_shape=(32, 32, 3))\n",
        "\n",
        "vgg16_net.trainable = False\n",
        "\n",
        "vgg16_net.summary()"
      ],
      "metadata": {
        "colab": {
          "base_uri": "https://localhost:8080/"
        },
        "id": "Cq0sHihI0ied",
        "outputId": "18de173c-7eee-4dae-8ddb-fdab29fed6d9"
      },
      "execution_count": null,
      "outputs": [
        {
          "output_type": "stream",
          "name": "stdout",
          "text": [
            "Model: \"vgg16\"\n",
            "_________________________________________________________________\n",
            " Layer (type)                Output Shape              Param #   \n",
            "=================================================================\n",
            " input_5 (InputLayer)        [(None, 32, 32, 3)]       0         \n",
            "                                                                 \n",
            " block1_conv1 (Conv2D)       (None, 32, 32, 64)        1792      \n",
            "                                                                 \n",
            " block1_conv2 (Conv2D)       (None, 32, 32, 64)        36928     \n",
            "                                                                 \n",
            " block1_pool (MaxPooling2D)  (None, 16, 16, 64)        0         \n",
            "                                                                 \n",
            " block2_conv1 (Conv2D)       (None, 16, 16, 128)       73856     \n",
            "                                                                 \n",
            " block2_conv2 (Conv2D)       (None, 16, 16, 128)       147584    \n",
            "                                                                 \n",
            " block2_pool (MaxPooling2D)  (None, 8, 8, 128)         0         \n",
            "                                                                 \n",
            " block3_conv1 (Conv2D)       (None, 8, 8, 256)         295168    \n",
            "                                                                 \n",
            " block3_conv2 (Conv2D)       (None, 8, 8, 256)         590080    \n",
            "                                                                 \n",
            " block3_conv3 (Conv2D)       (None, 8, 8, 256)         590080    \n",
            "                                                                 \n",
            " block3_pool (MaxPooling2D)  (None, 4, 4, 256)         0         \n",
            "                                                                 \n",
            " block4_conv1 (Conv2D)       (None, 4, 4, 512)         1180160   \n",
            "                                                                 \n",
            " block4_conv2 (Conv2D)       (None, 4, 4, 512)         2359808   \n",
            "                                                                 \n",
            " block4_conv3 (Conv2D)       (None, 4, 4, 512)         2359808   \n",
            "                                                                 \n",
            " block4_pool (MaxPooling2D)  (None, 2, 2, 512)         0         \n",
            "                                                                 \n",
            " block5_conv1 (Conv2D)       (None, 2, 2, 512)         2359808   \n",
            "                                                                 \n",
            " block5_conv2 (Conv2D)       (None, 2, 2, 512)         2359808   \n",
            "                                                                 \n",
            " block5_conv3 (Conv2D)       (None, 2, 2, 512)         2359808   \n",
            "                                                                 \n",
            " block5_pool (MaxPooling2D)  (None, 1, 1, 512)         0         \n",
            "                                                                 \n",
            "=================================================================\n",
            "Total params: 14,714,688\n",
            "Trainable params: 0\n",
            "Non-trainable params: 14,714,688\n",
            "_________________________________________________________________\n"
          ]
        }
      ]
    },
    {
      "cell_type": "code",
      "source": [
        "# дописываем сеть , что б на выходе была классификация двух классов\n",
        "x = vgg16_net.output\n",
        "x = GlobalAveragePooling2D()(x)\n",
        "x = Dense(256, activation='relu')(x)\n",
        "predictions = Dense(num_classes, activation='softmax')(x)\n",
        "\n",
        "model = Model(inputs=vgg16_net.input, outputs=predictions)\n",
        "\n",
        "for layer in vgg16_net.layers:\n",
        "    layer.trainable = False\n",
        "\n",
        "model.summary()\n",
        "\n",
        "model.compile(optimizer=Adam(), loss='categorical_crossentropy', metrics=['accuracy'])"
      ],
      "metadata": {
        "colab": {
          "base_uri": "https://localhost:8080/"
        },
        "id": "wTwGmjdm4e84",
        "outputId": "a22a705e-b1de-4c4a-ba7d-a90bad5372f4"
      },
      "execution_count": null,
      "outputs": [
        {
          "output_type": "stream",
          "name": "stdout",
          "text": [
            "Model: \"model\"\n",
            "_________________________________________________________________\n",
            " Layer (type)                Output Shape              Param #   \n",
            "=================================================================\n",
            " input_5 (InputLayer)        [(None, 32, 32, 3)]       0         \n",
            "                                                                 \n",
            " block1_conv1 (Conv2D)       (None, 32, 32, 64)        1792      \n",
            "                                                                 \n",
            " block1_conv2 (Conv2D)       (None, 32, 32, 64)        36928     \n",
            "                                                                 \n",
            " block1_pool (MaxPooling2D)  (None, 16, 16, 64)        0         \n",
            "                                                                 \n",
            " block2_conv1 (Conv2D)       (None, 16, 16, 128)       73856     \n",
            "                                                                 \n",
            " block2_conv2 (Conv2D)       (None, 16, 16, 128)       147584    \n",
            "                                                                 \n",
            " block2_pool (MaxPooling2D)  (None, 8, 8, 128)         0         \n",
            "                                                                 \n",
            " block3_conv1 (Conv2D)       (None, 8, 8, 256)         295168    \n",
            "                                                                 \n",
            " block3_conv2 (Conv2D)       (None, 8, 8, 256)         590080    \n",
            "                                                                 \n",
            " block3_conv3 (Conv2D)       (None, 8, 8, 256)         590080    \n",
            "                                                                 \n",
            " block3_pool (MaxPooling2D)  (None, 4, 4, 256)         0         \n",
            "                                                                 \n",
            " block4_conv1 (Conv2D)       (None, 4, 4, 512)         1180160   \n",
            "                                                                 \n",
            " block4_conv2 (Conv2D)       (None, 4, 4, 512)         2359808   \n",
            "                                                                 \n",
            " block4_conv3 (Conv2D)       (None, 4, 4, 512)         2359808   \n",
            "                                                                 \n",
            " block4_pool (MaxPooling2D)  (None, 2, 2, 512)         0         \n",
            "                                                                 \n",
            " block5_conv1 (Conv2D)       (None, 2, 2, 512)         2359808   \n",
            "                                                                 \n",
            " block5_conv2 (Conv2D)       (None, 2, 2, 512)         2359808   \n",
            "                                                                 \n",
            " block5_conv3 (Conv2D)       (None, 2, 2, 512)         2359808   \n",
            "                                                                 \n",
            " block5_pool (MaxPooling2D)  (None, 1, 1, 512)         0         \n",
            "                                                                 \n",
            " global_average_pooling2d (G  (None, 512)              0         \n",
            " lobalAveragePooling2D)                                          \n",
            "                                                                 \n",
            " dense_14 (Dense)            (None, 256)               131328    \n",
            "                                                                 \n",
            " dense_15 (Dense)            (None, 2)                 514       \n",
            "                                                                 \n",
            "=================================================================\n",
            "Total params: 14,846,530\n",
            "Trainable params: 131,842\n",
            "Non-trainable params: 14,714,688\n",
            "_________________________________________________________________\n"
          ]
        }
      ]
    },
    {
      "cell_type": "code",
      "source": [
        "# обучение\n",
        "history1 = model.fit(x_train, y_train, batch_size = 32, epochs = 10,\n",
        "                    validation_data=(x_test, y_test))"
      ],
      "metadata": {
        "colab": {
          "base_uri": "https://localhost:8080/"
        },
        "id": "iZlyg6JJ1RLn",
        "outputId": "d944e735-8613-4fd6-cb18-d71883c832c6"
      },
      "execution_count": null,
      "outputs": [
        {
          "output_type": "stream",
          "name": "stdout",
          "text": [
            "Epoch 1/10\n",
            "300/300 [==============================] - 151s 501ms/step - loss: 0.6052 - accuracy: 0.6661 - val_loss: 0.5660 - val_accuracy: 0.6904\n",
            "Epoch 2/10\n",
            "300/300 [==============================] - 146s 489ms/step - loss: 0.5692 - accuracy: 0.6964 - val_loss: 0.9903 - val_accuracy: 0.3908\n",
            "Epoch 3/10\n",
            "300/300 [==============================] - 148s 495ms/step - loss: 0.5488 - accuracy: 0.7127 - val_loss: 0.6672 - val_accuracy: 0.6329\n",
            "Epoch 4/10\n",
            "300/300 [==============================] - 132s 439ms/step - loss: 0.5300 - accuracy: 0.7224 - val_loss: 0.8221 - val_accuracy: 0.5275\n",
            "Epoch 5/10\n",
            "300/300 [==============================] - 147s 489ms/step - loss: 0.5142 - accuracy: 0.7370 - val_loss: 0.9861 - val_accuracy: 0.4296\n",
            "Epoch 6/10\n",
            "300/300 [==============================] - 148s 493ms/step - loss: 0.4960 - accuracy: 0.7467 - val_loss: 0.6715 - val_accuracy: 0.6100\n",
            "Epoch 7/10\n",
            "300/300 [==============================] - 147s 492ms/step - loss: 0.4734 - accuracy: 0.7655 - val_loss: 0.7611 - val_accuracy: 0.5879\n",
            "Epoch 8/10\n",
            "300/300 [==============================] - 150s 499ms/step - loss: 0.4524 - accuracy: 0.7830 - val_loss: 0.6385 - val_accuracy: 0.6829\n",
            "Epoch 9/10\n",
            "300/300 [==============================] - 151s 501ms/step - loss: 0.4274 - accuracy: 0.7958 - val_loss: 0.7151 - val_accuracy: 0.6254\n",
            "Epoch 10/10\n",
            "300/300 [==============================] - 155s 519ms/step - loss: 0.4082 - accuracy: 0.8099 - val_loss: 0.7978 - val_accuracy: 0.5925\n"
          ]
        }
      ]
    },
    {
      "cell_type": "code",
      "source": [
        "# вывод точности и ошибкуи(точность - синяя, ошибка - оранжевая)\n",
        "plt.plot(history1.history['accuracy'], label='accuracy')\n",
        "plt.plot(history1.history['loss'], label = 'loss')\n",
        "plt.xlabel('Epoch')\n",
        "plt.ylabel('Accuracy')\n",
        "plt.ylim([0, 1])\n",
        "plt.legend(loc='lower right')"
      ],
      "metadata": {
        "colab": {
          "base_uri": "https://localhost:8080/",
          "height": 472
        },
        "id": "B75AzdL0-2Ee",
        "outputId": "8b679311-d2a8-4b11-a07e-7f1f314d2904"
      },
      "execution_count": null,
      "outputs": [
        {
          "output_type": "execute_result",
          "data": {
            "text/plain": [
              "<matplotlib.legend.Legend at 0x7f4ad36354e0>"
            ]
          },
          "metadata": {},
          "execution_count": 80
        },
        {
          "output_type": "display_data",
          "data": {
            "text/plain": [
              "<Figure size 640x480 with 1 Axes>"
            ],
            "image/png": "[encoded data removed]"
          },
          "metadata": {}
        }
      ]
    }
  ]
}