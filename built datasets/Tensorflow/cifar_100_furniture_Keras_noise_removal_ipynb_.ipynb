{
  "nbformat": 4,
  "nbformat_minor": 0,
  "metadata": {
    "colab": {
      "provenance": [],
      "gpuType": "T4"
    },
    "kernelspec": {
      "name": "python3",
      "display_name": "Python 3"
    },
    "language_info": {
      "name": "python"
    },
    "accelerator": "GPU"
  },
  "cells": [
    {
      "cell_type": "code",
      "source": [
        "import os\n",
        "import cv2\n",
        "import numpy as np\n",
        "import keras\n",
        "import random\n",
        "import matplotlib.pyplot as plt\n",
        "\n",
        "import tensorflow as tf\n",
        "from keras.models import Sequential\n",
        "from keras.layers import Dense\n",
        "from tensorflow.keras.utils import to_categorical\n",
        "\n",
        "from keras.utils import np_utils\n",
        "from sklearn.model_selection import train_test_split\n",
        "from tensorflow.keras.datasets import cifar100\n",
        "from keras.preprocessing.image import ImageDataGenerator\n",
        "from keras.models import Model\n",
        "from keras.layers.convolutional import Conv2D, MaxPooling2D\n",
        "from keras.layers import Input, Dense, Dropout, Flatten, Reshape, UpSampling2D\n",
        "from keras.callbacks import TensorBoard"
      ],
      "metadata": {
        "id": "UAqlRM8AmZf-"
      },
      "execution_count": null,
      "outputs": []
    },
    {
      "cell_type": "code",
      "source": [
        "(x_trn, y_trn), (x_tst, y_tst) = cifar100.load_data(label_mode='fine')"
      ],
      "metadata": {
        "id": "l9VXcqZYiABI",
        "colab": {
          "base_uri": "https://localhost:8080/"
        },
        "outputId": "5716985f-11ac-4e85-f57e-257f0e7b5e8a"
      },
      "execution_count": null,
      "outputs": [
        {
          "output_type": "stream",
          "name": "stdout",
          "text": [
            "Downloading data from https://www.cs.toronto.edu/~kriz/cifar-100-python.tar.gz\n",
            "169001437/169001437 [==============================] - 6s 0us/step\n"
          ]
        }
      ]
    },
    {
      "cell_type": "code",
      "source": [
        "# Фильтрация изображений по классам \"животных, семейства кошачьих\"\n",
        "# индекс класса bed - 5, chair - 20, couch - 25, table - 84, wardrobe - 94\n",
        "\n",
        "\n",
        "x_image_bed_trn = x_trn[y_trn.flatten() == 5]\n",
        "x_image_chair_trn = x_trn[y_trn.flatten() == 20]\n",
        "x_image_couch_trn = x_trn[y_trn.flatten() == 25]\n",
        "x_image_table_trn = x_trn[y_trn.flatten() == 84]\n",
        "x_image_wardrobe_trn = x_trn[y_trn.flatten() == 94]\n",
        "\n",
        "\n",
        "x_image_bed_tst = x_tst[y_tst.flatten() == 5]\n",
        "x_image_chair_tst = x_tst[y_tst.flatten() == 20]\n",
        "x_image_couch_tst = x_tst[y_tst.flatten() == 25]\n",
        "x_image_table_tst = x_tst[y_tst.flatten() == 84]\n",
        "x_image_wardrobe_tst = x_tst[y_tst.flatten() == 94]"
      ],
      "metadata": {
        "id": "GX_WGckSiDUP"
      },
      "execution_count": null,
      "outputs": []
    },
    {
      "cell_type": "code",
      "source": [
        "def create_x(img1, img2, img3, img4, img5):\n",
        "  x_image = np.append(img1, img2, axis=0)\n",
        "  x_image = np.append(x_image, img3, axis=0)\n",
        "  x_image = np.append(x_image, img4, axis=0)\n",
        "  x_image = np.append(x_image, img5, axis=0)\n",
        "  return x_image"
      ],
      "metadata": {
        "id": "5jhqZap5peKf"
      },
      "execution_count": null,
      "outputs": []
    },
    {
      "cell_type": "code",
      "source": [
        "x_image_trn = create_x(x_image_bed_trn, x_image_chair_trn, x_image_couch_trn, x_image_table_trn, x_image_wardrobe_trn)\n",
        "x_image_tst = create_x(x_image_bed_tst, x_image_chair_tst, x_image_couch_tst, x_image_table_tst, x_image_wardrobe_tst)"
      ],
      "metadata": {
        "id": "QrlaeoXIppRJ"
      },
      "execution_count": null,
      "outputs": []
    },
    {
      "cell_type": "code",
      "source": [
        "def sp_noise(image,prob):\n",
        "\n",
        "    output = np.zeros(image.shape,np.uint8)\n",
        "    thres = 1 - prob\n",
        "    for i in range(image.shape[0]):\n",
        "        for j in range(image.shape[1]):\n",
        "            rdn = random.random()\n",
        "            if rdn < prob:\n",
        "                output[i][j] = 0\n",
        "            elif rdn > thres:\n",
        "                output[i][j] = 255\n",
        "            else:\n",
        "                output[i][j] = image[i][j]\n",
        "    return output"
      ],
      "metadata": {
        "id": "d9YtcOAvqLhg"
      },
      "execution_count": null,
      "outputs": []
    },
    {
      "cell_type": "code",
      "source": [
        "Xtrain = []\n",
        "Ytrain = x_image_trn\n",
        "Xtest = []\n",
        "Ytest = x_image_tst\n",
        "for fil in x_image_trn:\n",
        "    #fil = cv2.blur(fil,(5,5))\n",
        "    #fil = cv2.resize(fil,(,56))\n",
        "    fil = sp_noise(fil,0.05)\n",
        "    fil.shape = (32,32,3)\n",
        "\n",
        "    Xtrain.append(fil)\n",
        "for fil in x_image_tst:\n",
        "    #fil = cv2.blur(fil,(5,5))\n",
        "    fil = sp_noise(fil,0.05)\n",
        "    #fil = cv2.resize(fil,(56,56))\n",
        "    fil.shape = (32,32,3)\n",
        "    Xtest.append(fil)\n",
        "images=np.array(Ytrain)\n",
        "images = images.astype(np.float32)\n",
        "images = images/255\n",
        "noisy_images=np.array(Xtrain)\n",
        "noisy_images = noisy_images.astype(np.float32)\n",
        "noisy_images = noisy_images/255"
      ],
      "metadata": {
        "id": "92ucgIKmoF_U"
      },
      "execution_count": null,
      "outputs": []
    },
    {
      "cell_type": "code",
      "source": [
        "fig, axs = plt.subplots(2,2, figsize = (16, 8))\n",
        "\n",
        "axs[0][0].imshow(Xtrain[0])\n",
        "axs[0][1].imshow(Ytrain[0])\n",
        "axs[1][0].imshow(Xtrain[1])\n",
        "axs[1][1].imshow(Ytrain[1])"
      ],
      "metadata": {
        "colab": {
          "base_uri": "https://localhost:8080/",
          "height": 577
        },
        "id": "NpfkV_6zr1yQ",
        "outputId": "7ab1e2fe-8619-47ec-caec-495c945e6722"
      },
      "execution_count": null,
      "outputs": [
        {
          "output_type": "execute_result",
          "data": {
            "text/plain": [
              "<matplotlib.image.AxesImage at 0x7f20b7d1bd90>"
            ]
          },
          "metadata": {},
          "execution_count": 9
        },
        {
          "output_type": "display_data",
          "data": {
            "text/plain": [
              "<Figure size 1600x800 with 4 Axes>"
            ],
            "image/png": "[encoded data removed]"
          },
          "metadata": {}
        }
      ]
    },
    {
      "cell_type": "code",
      "source": [
        "input_img = keras.Input(shape=(32, 32, 3))\n",
        "#encoder\n",
        "conv1 = Conv2D(256, (3, 3), activation='relu', padding='same')(input_img)\n",
        "pool1 = MaxPooling2D(pool_size=(2, 2))(conv1)\n",
        "conv2 = Conv2D(128, (3, 3), activation='relu', padding='same')(pool1)\n",
        "pool2 = MaxPooling2D(pool_size=(2, 2))(conv2)\n",
        "conv3 = Conv2D(64, (3, 3), activation='relu', padding='same')(pool2)\n",
        "\n",
        "#decoder\n",
        "conv4 = Conv2D(64, (3, 3), activation='relu', padding='same')(conv3)\n",
        "up1 = UpSampling2D((2,2))(conv4)\n",
        "conv5 = Conv2D(128, (3, 3), activation='relu', padding='same')(up1)\n",
        "up2 = UpSampling2D((2,2))(conv5)\n",
        "decoded = Conv2D(3, (3, 3), activation='sigmoid', padding='same')(up2)\n",
        "\n",
        "autoencoder = keras.Model(input_img, decoded)\n",
        "autoencoder.compile(loss='binary_crossentropy', optimizer = 'adam', metrics=['accuracy'])\n",
        "autoencoder.summary()"
      ],
      "metadata": {
        "colab": {
          "base_uri": "https://localhost:8080/"
        },
        "id": "aNGb0OP6saxx",
        "outputId": "bc3f4a8f-c369-4225-da1a-331710023d8b"
      },
      "execution_count": null,
      "outputs": [
        {
          "output_type": "stream",
          "name": "stdout",
          "text": [
            "Model: \"model_5\"\n",
            "_________________________________________________________________\n",
            " Layer (type)                Output Shape              Param #   \n",
            "=================================================================\n",
            " input_6 (InputLayer)        [(None, 32, 32, 3)]       0         \n",
            "                                                                 \n",
            " conv2d_33 (Conv2D)          (None, 32, 32, 256)       7168      \n",
            "                                                                 \n",
            " max_pooling2d_10 (MaxPoolin  (None, 16, 16, 256)      0         \n",
            " g2D)                                                            \n",
            "                                                                 \n",
            " conv2d_34 (Conv2D)          (None, 16, 16, 128)       295040    \n",
            "                                                                 \n",
            " max_pooling2d_11 (MaxPoolin  (None, 8, 8, 128)        0         \n",
            " g2D)                                                            \n",
            "                                                                 \n",
            " conv2d_35 (Conv2D)          (None, 8, 8, 64)          73792     \n",
            "                                                                 \n",
            " conv2d_36 (Conv2D)          (None, 8, 8, 64)          36928     \n",
            "                                                                 \n",
            " up_sampling2d_11 (UpSamplin  (None, 16, 16, 64)       0         \n",
            " g2D)                                                            \n",
            "                                                                 \n",
            " conv2d_37 (Conv2D)          (None, 16, 16, 128)       73856     \n",
            "                                                                 \n",
            " up_sampling2d_12 (UpSamplin  (None, 32, 32, 128)      0         \n",
            " g2D)                                                            \n",
            "                                                                 \n",
            " conv2d_38 (Conv2D)          (None, 32, 32, 3)         3459      \n",
            "                                                                 \n",
            "=================================================================\n",
            "Total params: 490,243\n",
            "Trainable params: 490,243\n",
            "Non-trainable params: 0\n",
            "_________________________________________________________________\n"
          ]
        }
      ]
    },
    {
      "cell_type": "code",
      "source": [
        "print(len(Xtrain))\n",
        "print(len(Ytrain))"
      ],
      "metadata": {
        "colab": {
          "base_uri": "https://localhost:8080/"
        },
        "id": "aJ8YpddCtcCs",
        "outputId": "f8aa37d6-9857-4dc5-e7d9-bfa4d8a49e5a"
      },
      "execution_count": null,
      "outputs": [
        {
          "output_type": "stream",
          "name": "stdout",
          "text": [
            "2500\n",
            "2500\n"
          ]
        }
      ]
    },
    {
      "cell_type": "code",
      "source": [
        "X_train, X_test, y_train, y_test = train_test_split(noisy_images, images, test_size=0.2, random_state=42)"
      ],
      "metadata": {
        "id": "wHRzM3OFtdPs"
      },
      "execution_count": null,
      "outputs": []
    },
    {
      "cell_type": "code",
      "source": [
        "autoencoder.fit(X_train, y_train, validation_data=(X_test, y_test), epochs=20,batch_size=75)"
      ],
      "metadata": {
        "colab": {
          "base_uri": "https://localhost:8080/"
        },
        "id": "N7tfwS3ft8er",
        "outputId": "c848e84e-f904-4c19-d3ce-c6ffb752fc02"
      },
      "execution_count": null,
      "outputs": [
        {
          "output_type": "stream",
          "name": "stdout",
          "text": [
            "Epoch 1/20\n",
            "27/27 [==============================] - 4s 36ms/step - loss: 0.6473 - accuracy: 0.6897 - val_loss: 0.5908 - val_accuracy: 0.7499\n",
            "Epoch 2/20\n",
            "27/27 [==============================] - 1s 20ms/step - loss: 0.5790 - accuracy: 0.7422 - val_loss: 0.5570 - val_accuracy: 0.7547\n",
            "Epoch 3/20\n",
            "27/27 [==============================] - 1s 21ms/step - loss: 0.5493 - accuracy: 0.7303 - val_loss: 0.5356 - val_accuracy: 0.7770\n",
            "Epoch 4/20\n",
            "27/27 [==============================] - 1s 21ms/step - loss: 0.5392 - accuracy: 0.7518 - val_loss: 0.5327 - val_accuracy: 0.7476\n",
            "Epoch 5/20\n",
            "27/27 [==============================] - 1s 20ms/step - loss: 0.5333 - accuracy: 0.7630 - val_loss: 0.5269 - val_accuracy: 0.7690\n",
            "Epoch 6/20\n",
            "27/27 [==============================] - 1s 21ms/step - loss: 0.5289 - accuracy: 0.7579 - val_loss: 0.5235 - val_accuracy: 0.7532\n",
            "Epoch 7/20\n",
            "27/27 [==============================] - 1s 20ms/step - loss: 0.5260 - accuracy: 0.7623 - val_loss: 0.5213 - val_accuracy: 0.7927\n",
            "Epoch 8/20\n",
            "27/27 [==============================] - 1s 20ms/step - loss: 0.5231 - accuracy: 0.7773 - val_loss: 0.5214 - val_accuracy: 0.7862\n",
            "Epoch 9/20\n",
            "27/27 [==============================] - 1s 21ms/step - loss: 0.5236 - accuracy: 0.7739 - val_loss: 0.5174 - val_accuracy: 0.7841\n",
            "Epoch 10/20\n",
            "27/27 [==============================] - 1s 20ms/step - loss: 0.5200 - accuracy: 0.7803 - val_loss: 0.5167 - val_accuracy: 0.8032\n",
            "Epoch 11/20\n",
            "27/27 [==============================] - 1s 20ms/step - loss: 0.5194 - accuracy: 0.7791 - val_loss: 0.5145 - val_accuracy: 0.7859\n",
            "Epoch 12/20\n",
            "27/27 [==============================] - 1s 20ms/step - loss: 0.5187 - accuracy: 0.7790 - val_loss: 0.5142 - val_accuracy: 0.7677\n",
            "Epoch 13/20\n",
            "27/27 [==============================] - 1s 20ms/step - loss: 0.5179 - accuracy: 0.7823 - val_loss: 0.5133 - val_accuracy: 0.8071\n",
            "Epoch 14/20\n",
            "27/27 [==============================] - 1s 20ms/step - loss: 0.5173 - accuracy: 0.7892 - val_loss: 0.5163 - val_accuracy: 0.7793\n",
            "Epoch 15/20\n",
            "27/27 [==============================] - 1s 20ms/step - loss: 0.5194 - accuracy: 0.7830 - val_loss: 0.5154 - val_accuracy: 0.8124\n",
            "Epoch 16/20\n",
            "27/27 [==============================] - 1s 21ms/step - loss: 0.5159 - accuracy: 0.7844 - val_loss: 0.5115 - val_accuracy: 0.7867\n",
            "Epoch 17/20\n",
            "27/27 [==============================] - 1s 21ms/step - loss: 0.5147 - accuracy: 0.7948 - val_loss: 0.5172 - val_accuracy: 0.8089\n",
            "Epoch 18/20\n",
            "27/27 [==============================] - 1s 20ms/step - loss: 0.5145 - accuracy: 0.7908 - val_loss: 0.5117 - val_accuracy: 0.7985\n",
            "Epoch 19/20\n",
            "27/27 [==============================] - 1s 20ms/step - loss: 0.5167 - accuracy: 0.7896 - val_loss: 0.5120 - val_accuracy: 0.7991\n",
            "Epoch 20/20\n",
            "27/27 [==============================] - 1s 22ms/step - loss: 0.5136 - accuracy: 0.7935 - val_loss: 0.5108 - val_accuracy: 0.7995\n"
          ]
        },
        {
          "output_type": "execute_result",
          "data": {
            "text/plain": [
              "<keras.callbacks.History at 0x7f2020aca200>"
            ]
          },
          "metadata": {},
          "execution_count": 33
        }
      ]
    },
    {
      "cell_type": "code",
      "source": [
        "decoded_imgs = autoencoder.predict(X_train)"
      ],
      "metadata": {
        "colab": {
          "base_uri": "https://localhost:8080/"
        },
        "id": "0sCdFyfct8Y2",
        "outputId": "60b5d4c7-f131-4e61-99e2-f68b583eb319"
      },
      "execution_count": null,
      "outputs": [
        {
          "output_type": "stream",
          "name": "stdout",
          "text": [
            "63/63 [==============================] - 0s 4ms/step\n"
          ]
        }
      ]
    },
    {
      "cell_type": "code",
      "source": [
        "n = 2\n",
        "plt.figure(figsize=(5, 5))\n",
        "\n",
        "for i in range(n):\n",
        "\t# оригинальные изображения\n",
        "\tax = plt.subplot(3, n, i + 1)\n",
        "\tplt.imshow((X_train[i+5]))\n",
        "\tplt.gray()\n",
        "\tax.get_xaxis().set_visible(False)\n",
        "\tax.get_yaxis().set_visible(False)\n",
        "\n",
        "  # зашумленные изображения\n",
        "\tax = plt.subplot(3, n, i + 1 + n)\n",
        "\tplt.imshow(y_train[i+5])\n",
        "\tplt.gray()\n",
        "\tax.get_xaxis().set_visible(False)\n",
        "\tax.get_yaxis().set_visible(False)\n",
        "\n",
        "\t# восстановленные изображения автоэнкодером\n",
        "\tax = plt.subplot(3, n, i + 1 + 2*n)\n",
        "\tplt.imshow(np.array(decoded_imgs[i+5]))\n",
        "\tplt.gray()\n",
        "\tax.get_xaxis().set_visible(False)\n",
        "\tax.get_yaxis().set_visible(False)\n",
        "plt.show()"
      ],
      "metadata": {
        "colab": {
          "base_uri": "https://localhost:8080/",
          "height": 422
        },
        "id": "VR7qIbz8xG7q",
        "outputId": "3e6c0e86-65f4-46a1-9221-9879f55c9f0c"
      },
      "execution_count": null,
      "outputs": [
        {
          "output_type": "display_data",
          "data": {
            "text/plain": [
              "<Figure size 500x500 with 6 Axes>"
            ],
            "image/png": "[encoded data removed]"
          },
          "metadata": {}
        }
      ]
    }
  ]
}