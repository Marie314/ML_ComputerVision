{
  "nbformat": 4,
  "nbformat_minor": 0,
  "metadata": {
    "colab": {
      "provenance": []
    },
    "kernelspec": {
      "name": "python3",
      "display_name": "Python 3"
    },
    "language_info": {
      "name": "python"
    }
  },
  "cells": [
    {
      "cell_type": "code",
      "execution_count": null,
      "metadata": {
        "id": "-pRbSJNAbTQ8"
      },
      "outputs": [],
      "source": [
        "import torch, torchvision\n",
        "from torchvision import datasets, transforms\n",
        "from torchvision.transforms import ToTensor\n",
        "\n",
        "from torch import nn, optim\n",
        "from torch.nn import functional as F\n",
        "from torch.autograd import Variable\n",
        "from torch.utils.data.sampler import SubsetRandomSampler\n",
        "from torch.utils.data import DataLoader\n",
        "\n",
        "import numpy as np\n",
        "import matplotlib.pyplot as plt"
      ]
    },
    {
      "cell_type": "code",
      "source": [
        "batch_size_train = 32\n",
        "batch_size_test = 10000\n",
        "valid_size = 0.2"
      ],
      "metadata": {
        "id": "X6s3I19Xbj1t"
      },
      "execution_count": null,
      "outputs": []
    },
    {
      "cell_type": "code",
      "source": [
        "train_data = datasets.MNIST(root='data', train=True, download=True, transform=ToTensor())\n",
        "test_data = datasets.MNIST(root='data', train=False, download=True, transform=ToTensor())"
      ],
      "metadata": {
        "id": "WKYn7GYGbmpR"
      },
      "execution_count": null,
      "outputs": []
    },
    {
      "cell_type": "code",
      "source": [
        "print(train_data)\n",
        "print(test_data)\n",
        "print(train_data.data.size())\n",
        "print(test_data.data.size())"
      ],
      "metadata": {
        "colab": {
          "base_uri": "https://localhost:8080/"
        },
        "id": "l41Uen-dbnU9",
        "outputId": "62aedf4d-675f-4bfd-d038-2a080345ba14"
      },
      "execution_count": null,
      "outputs": [
        {
          "output_type": "stream",
          "name": "stdout",
          "text": [
            "Dataset MNIST\n",
            "    Number of datapoints: 60000\n",
            "    Root location: data\n",
            "    Split: Train\n",
            "    StandardTransform\n",
            "Transform: ToTensor()\n",
            "Dataset MNIST\n",
            "    Number of datapoints: 10000\n",
            "    Root location: data\n",
            "    Split: Test\n",
            "    StandardTransform\n",
            "Transform: ToTensor()\n",
            "torch.Size([60000, 28, 28])\n",
            "torch.Size([10000, 28, 28])\n"
          ]
        }
      ]
    },
    {
      "cell_type": "code",
      "source": [
        "def choose_batch(batch_size_trn, batch_size_tst):\n",
        "    train_loader = DataLoader(train_data, batch_size=batch_size_trn, shuffle=True)\n",
        "    test_loader = DataLoader(train_data, batch_size=batch_size_tst, shuffle=True)\n",
        "\n",
        "    return train_loader, test_loader"
      ],
      "metadata": {
        "id": "tEsvuxhBbpxg"
      },
      "execution_count": null,
      "outputs": []
    },
    {
      "cell_type": "code",
      "source": [
        "# создание модели с 2-мя сверточными слоями и 3-мя полносвязными\n",
        "class Net(nn.Module):\n",
        "    def __init__(self):\n",
        "        super(Net, self).__init__()\n",
        "        self.conv_layers = nn.Sequential(nn.Conv2d(1, 10, kernel_size=5),\n",
        "                                         nn.MaxPool2d(2),\n",
        "                                         nn.ReLU(),\n",
        "                                         nn.Conv2d(10, 20, kernel_size=5),\n",
        "                                         nn.MaxPool2d(2),\n",
        "                                         nn.ReLU(),)\n",
        "        self.fc_layers = nn.Sequential(nn.Linear(320,  128),\n",
        "                                       nn.ReLU(),\n",
        "                                       nn.Linear(128,  64),\n",
        "                                       nn.ReLU(),\n",
        "                                       nn.Linear(64, 10),\n",
        "                                       nn.Softmax(dim = 1))\n",
        "\n",
        "    def forward(self, x):\n",
        "        x = self.conv_layers(x)\n",
        "        x = x.view(-1, 320)\n",
        "        out = self.fc_layers(x)\n",
        "        return out"
      ],
      "metadata": {
        "id": "CEZn6lOJbsz7"
      },
      "execution_count": null,
      "outputs": []
    },
    {
      "cell_type": "code",
      "source": [
        "def train(model, device, train_loader, optimizer, epoch):\n",
        "    model.train()\n",
        "    for batch_indx, (data, target) in enumerate(train_loader):\n",
        "        data, target = data.to(device), target.to(device)\n",
        "        optimizer.zero_grad()\n",
        "        output = model(data)\n",
        "        loss = F.nll_loss(output.log(), target)\n",
        "        loss.backward()\n",
        "        optimizer.step()\n",
        "        if batch_indx % 100 == 0:\n",
        "            print('Epoch {0}  Loss {1} '.format(epoch, loss.item()))"
      ],
      "metadata": {
        "id": "yxyIuA3xbwrH"
      },
      "execution_count": null,
      "outputs": []
    },
    {
      "cell_type": "code",
      "source": [
        "def test(model, device, test_loader):\n",
        "    model.eval()\n",
        "    test_loss = 0\n",
        "    correct = 0\n",
        "    with torch.no_grad():\n",
        "        for data, target in test_loader:\n",
        "            data, target = data.to(device), target.to(device)\n",
        "            output = model(data)\n",
        "            test_loss += F.nll_loss(output.log(), target).item()\n",
        "            pred = output.max(1, keepdim=True)[1]\n",
        "            correct += pred.eq(target.view_as(pred)).sum().item()\n",
        "\n",
        "    test_loss /= len(test_loader.dataset)\n",
        "    correct /= len(test_loader.dataset)\n",
        "    print('Avg loss {0} Avg acc {1}'.format(test_loss, correct))"
      ],
      "metadata": {
        "id": "YI0b3HVrb19T"
      },
      "execution_count": null,
      "outputs": []
    },
    {
      "cell_type": "code",
      "source": [
        "batch_size = 128\n",
        "epochs = 3\n",
        "device = torch.device('cpu')"
      ],
      "metadata": {
        "id": "cPztjyjSb20A"
      },
      "execution_count": null,
      "outputs": []
    },
    {
      "cell_type": "code",
      "source": [
        "train_loader = DataLoader(datasets.MNIST('mnist_data', train = True, download=True, transform=transforms.Compose([transforms.ToTensor()])), batch_size=batch_size, shuffle=True)\n",
        "test_loader = DataLoader(datasets.MNIST('mnist_data', train = False, download=True, transform=transforms.Compose([transforms.ToTensor()])), batch_size=batch_size, shuffle=True)\n"
      ],
      "metadata": {
        "id": "n-Dpv8w3b7td"
      },
      "execution_count": null,
      "outputs": []
    },
    {
      "cell_type": "code",
      "source": [
        "#создаем 5 моделей с разными оптимизаторами(отличаются сами оптимизаторы и скорость обучения(lr))\n",
        "model = Net().to(device)\n",
        "optimizer = optim.SGD(model.parameters(), lr = 0.01, momentum = 0.5)"
      ],
      "metadata": {
        "id": "FmyCs4bub8zh"
      },
      "execution_count": null,
      "outputs": []
    },
    {
      "cell_type": "code",
      "source": [
        "model2 = Net().to(device)\n",
        "optimizer2 = optim.SGD(model.parameters(), lr = 0.001, momentum = 0.5)"
      ],
      "metadata": {
        "id": "ImZpd0pjdK3y"
      },
      "execution_count": null,
      "outputs": []
    },
    {
      "cell_type": "code",
      "source": [
        "model3 = Net().to(device)\n",
        "optimizer3 = optim.SGD(model.parameters(), lr = 0.1, momentum = 0.5)"
      ],
      "metadata": {
        "id": "YHvu-W3adMVm"
      },
      "execution_count": null,
      "outputs": []
    },
    {
      "cell_type": "code",
      "source": [
        "model4 = Net().to(device)\n",
        "optimizer4 = optim.Adam(model.parameters(), lr = 0.01)"
      ],
      "metadata": {
        "id": "-M7Wf4QidM-2"
      },
      "execution_count": null,
      "outputs": []
    },
    {
      "cell_type": "code",
      "source": [
        "model5 = Net().to(device)\n",
        "optimizer5 = optim.RMSprop(model.parameters(), lr = 0.01, momentum = 0.5)"
      ],
      "metadata": {
        "id": "UY4Hadv4dPJN"
      },
      "execution_count": null,
      "outputs": []
    },
    {
      "cell_type": "code",
      "source": [
        "for epoch in range(1, epochs+1):\n",
        "    train(model, device, train_loader, optimizer, epoch)\n",
        "    test(model, device, test_loader)"
      ],
      "metadata": {
        "colab": {
          "base_uri": "https://localhost:8080/"
        },
        "id": "498N1OOCcAmn",
        "outputId": "2d2b52e6-cd4e-4090-eef6-e31c5d4b8488"
      },
      "execution_count": null,
      "outputs": [
        {
          "output_type": "stream",
          "name": "stdout",
          "text": [
            "Epoch 1  Loss 2.3066132068634033 \n",
            "Epoch 1  Loss 2.2918484210968018 \n",
            "Epoch 1  Loss 2.2913944721221924 \n",
            "Epoch 1  Loss 2.293863296508789 \n",
            "Epoch 1  Loss 2.2911133766174316 \n",
            "Avg loss 0.01804625790119171 Avg acc 0.1135\n",
            "Epoch 2  Loss 2.290665864944458 \n",
            "Epoch 2  Loss 2.271789312362671 \n",
            "Epoch 2  Loss 2.20024037361145 \n",
            "Epoch 2  Loss 1.7083793878555298 \n",
            "Epoch 2  Loss 0.695245623588562 \n",
            "Avg loss 0.004125655797123909 Avg acc 0.8384\n",
            "Epoch 3  Loss 0.4633777439594269 \n",
            "Epoch 3  Loss 0.3728172183036804 \n",
            "Epoch 3  Loss 0.3551027774810791 \n",
            "Epoch 3  Loss 0.3563787639141083 \n",
            "Epoch 3  Loss 0.2076406329870224 \n",
            "Avg loss 0.0019362385407090186 Avg acc 0.9229\n"
          ]
        }
      ]
    },
    {
      "cell_type": "code",
      "source": [
        "for epoch in range(1, epochs+1):\n",
        "    train(model2, device, train_loader, optimizer2, epoch)\n",
        "    test(model2, device, test_loader)"
      ],
      "metadata": {
        "colab": {
          "base_uri": "https://localhost:8080/"
        },
        "id": "03dfCcINcDPn",
        "outputId": "c8aa72bd-9c7f-47b8-c7b8-80e4ebffe9b4"
      },
      "execution_count": null,
      "outputs": [
        {
          "output_type": "stream",
          "name": "stdout",
          "text": [
            "Epoch 1  Loss 2.2904775142669678 \n",
            "Epoch 1  Loss 2.31174635887146 \n",
            "Epoch 1  Loss 2.305121421813965 \n",
            "Epoch 1  Loss 2.3018758296966553 \n",
            "Epoch 1  Loss 2.3051257133483887 \n",
            "Avg loss 0.01821616551876068 Avg acc 0.1009\n",
            "Epoch 2  Loss 2.30610728263855 \n",
            "Epoch 2  Loss 2.2997233867645264 \n",
            "Epoch 2  Loss 2.301445960998535 \n",
            "Epoch 2  Loss 2.3103220462799072 \n",
            "Epoch 2  Loss 2.3135461807250977 \n",
            "Avg loss 0.018219946455955507 Avg acc 0.1009\n",
            "Epoch 3  Loss 2.3080084323883057 \n",
            "Epoch 3  Loss 2.3108415603637695 \n",
            "Epoch 3  Loss 2.2995717525482178 \n",
            "Epoch 3  Loss 2.3128790855407715 \n",
            "Epoch 3  Loss 2.3056411743164062 \n",
            "Avg loss 0.01821963655948639 Avg acc 0.1009\n"
          ]
        }
      ]
    },
    {
      "cell_type": "code",
      "source": [
        "for epoch in range(1, epochs+1):\n",
        "    train(model3, device, train_loader, optimizer3, epoch)\n",
        "    test(model3, device, test_loader)"
      ],
      "metadata": {
        "colab": {
          "base_uri": "https://localhost:8080/"
        },
        "id": "v37YPdMFeDR2",
        "outputId": "b9434f60-f6f8-411a-e59b-f858982e6d1e"
      },
      "execution_count": null,
      "outputs": [
        {
          "output_type": "stream",
          "name": "stdout",
          "text": [
            "Epoch 1  Loss 2.307481527328491 \n",
            "Epoch 1  Loss 2.312453031539917 \n",
            "Epoch 1  Loss 2.2994372844696045 \n",
            "Epoch 1  Loss 2.3138155937194824 \n",
            "Epoch 1  Loss 2.3047173023223877 \n",
            "Avg loss 0.018226488852500916 Avg acc 0.0982\n",
            "Epoch 2  Loss 2.3061587810516357 \n",
            "Epoch 2  Loss 2.319164991378784 \n",
            "Epoch 2  Loss 2.314134120941162 \n",
            "Epoch 2  Loss 2.3055810928344727 \n",
            "Epoch 2  Loss 2.2988760471343994 \n",
            "Avg loss 0.01822683675289154 Avg acc 0.0982\n",
            "Epoch 3  Loss 2.300570487976074 \n",
            "Epoch 3  Loss 2.3016722202301025 \n",
            "Epoch 3  Loss 2.306119203567505 \n",
            "Epoch 3  Loss 2.297546625137329 \n",
            "Epoch 3  Loss 2.3094191551208496 \n",
            "Avg loss 0.01822712137699127 Avg acc 0.0982\n"
          ]
        }
      ]
    },
    {
      "cell_type": "code",
      "source": [
        "for epoch in range(1, epochs+1):\n",
        "    train(model4, device, train_loader, optimizer4, epoch)\n",
        "    test(model4, device, test_loader)"
      ],
      "metadata": {
        "colab": {
          "base_uri": "https://localhost:8080/"
        },
        "id": "-LdDcw83eESo",
        "outputId": "ceb62712-ae90-4a7b-9783-1da97a530f53"
      },
      "execution_count": null,
      "outputs": [
        {
          "output_type": "stream",
          "name": "stdout",
          "text": [
            "Epoch 1  Loss 2.3166301250457764 \n",
            "Epoch 1  Loss 2.3039121627807617 \n",
            "Epoch 1  Loss 2.310493230819702 \n",
            "Epoch 1  Loss 2.303271532058716 \n",
            "Epoch 1  Loss 2.30814528465271 \n",
            "Avg loss 0.018244272089004518 Avg acc 0.0909\n",
            "Epoch 2  Loss 2.295989751815796 \n",
            "Epoch 2  Loss 2.308619737625122 \n",
            "Epoch 2  Loss 2.3069348335266113 \n",
            "Epoch 2  Loss 2.307103157043457 \n",
            "Epoch 2  Loss 2.3053982257843018 \n",
            "Avg loss 0.01824000401496887 Avg acc 0.0909\n",
            "Epoch 3  Loss 2.309016704559326 \n",
            "Epoch 3  Loss 2.3128795623779297 \n",
            "Epoch 3  Loss 2.30873441696167 \n",
            "Epoch 3  Loss 2.294670820236206 \n",
            "Epoch 3  Loss 2.299774646759033 \n",
            "Avg loss 0.01824345269203186 Avg acc 0.0909\n"
          ]
        }
      ]
    },
    {
      "cell_type": "code",
      "source": [
        "for epoch in range(1, epochs+1):\n",
        "    train(model5, device, train_loader, optimizer5, epoch)\n",
        "    test(model5, device, test_loader)"
      ],
      "metadata": {
        "colab": {
          "base_uri": "https://localhost:8080/"
        },
        "id": "tRfg4KYieE_m",
        "outputId": "565a37d5-c5b0-4f61-8991-a6136bf9342f"
      },
      "execution_count": null,
      "outputs": [
        {
          "output_type": "stream",
          "name": "stdout",
          "text": [
            "Epoch 1  Loss 2.3235738277435303 \n",
            "Epoch 1  Loss 2.302422523498535 \n",
            "Epoch 1  Loss 2.2882039546966553 \n",
            "Epoch 1  Loss 2.304358720779419 \n",
            "Epoch 1  Loss 2.2983908653259277 \n",
            "Avg loss 0.018205712366104125 Avg acc 0.105\n",
            "Epoch 2  Loss 2.292454719543457 \n",
            "Epoch 2  Loss 2.3124310970306396 \n",
            "Epoch 2  Loss 2.310509443283081 \n",
            "Epoch 2  Loss 2.2995877265930176 \n",
            "Epoch 2  Loss 2.2937326431274414 \n",
            "Avg loss 0.018203898692131043 Avg acc 0.105\n",
            "Epoch 3  Loss 2.3046927452087402 \n",
            "Epoch 3  Loss 2.3006303310394287 \n",
            "Epoch 3  Loss 2.3095858097076416 \n",
            "Epoch 3  Loss 2.3039369583129883 \n",
            "Epoch 3  Loss 2.294588565826416 \n",
            "Avg loss 0.018205688786506653 Avg acc 0.105\n"
          ]
        }
      ]
    },
    {
      "cell_type": "markdown",
      "source": [
        "ВЫВОД: исходя из данных точности и ошибки, полученых при обучении моделей с разными оптимизаторами, можем сделать вывод, что самая лучшая модель с оптимизатором SGD и скорость обучения(lr) равной 0.01\n"
      ],
      "metadata": {
        "id": "tK6mbDmSgPfL"
      }
    },
    {
      "cell_type": "code",
      "source": [
        "#"
      ],
      "metadata": {
        "id": "I2mi2L0igNve"
      },
      "execution_count": null,
      "outputs": []
    }
  ]
}